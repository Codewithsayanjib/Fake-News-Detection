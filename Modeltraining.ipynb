{
 "cells": [
  {
   "cell_type": "code",
   "execution_count": 3,
   "id": "f2559eb8",
   "metadata": {},
   "outputs": [
    {
     "name": "stdout",
     "output_type": "stream",
     "text": [
      "Logistic Regression Results:\n",
      "Accuracy: 0.9905127625931782\n",
      "\n",
      "Classification Report:\n",
      "               precision    recall  f1-score   support\n",
      "\n",
      "           0       0.99      0.99      0.99      4284\n",
      "           1       0.99      0.99      0.99      4570\n",
      "\n",
      "    accuracy                           0.99      8854\n",
      "   macro avg       0.99      0.99      0.99      8854\n",
      "weighted avg       0.99      0.99      0.99      8854\n",
      "\n",
      "\n",
      "Confusion Matrix:\n",
      " [[4254   30]\n",
      " [  54 4516]]\n"
     ]
    }
   ],
   "source": [
    "import pandas as pd\n",
    "from sklearn.model_selection import train_test_split\n",
    "from sklearn.feature_extraction.text import TfidfVectorizer\n",
    "from sklearn.linear_model import LogisticRegression\n",
    "from sklearn.metrics import accuracy_score, classification_report, confusion_matrix\n",
    "\n",
    "#Load the cleaned CSV\n",
    "df = pd.read_csv(\"cleaned_fake_news.csv\")\n",
    "\n",
    "#Drop rows with missing content\n",
    "df = df.dropna(subset=[\"content\"])\n",
    "\n",
    "#Split into features and labels\n",
    "X = df[\"content\"]\n",
    "y = df[\"label\"]\n",
    "\n",
    "#Vectorize using TF-IDF\n",
    "vectorizer = TfidfVectorizer(max_features=5000)\n",
    "X_vec = vectorizer.fit_transform(X)\n",
    "\n",
    "#Train-test split\n",
    "X_train, X_test, y_train, y_test = train_test_split(\n",
    "    X_vec, y, test_size=0.2, random_state=42, stratify=y\n",
    ")\n",
    "\n",
    "#1. Logistic Regression model\n",
    "model = LogisticRegression()\n",
    "model.fit(X_train, y_train)\n",
    "y_pred = model.predict(X_test)\n",
    "print(\"Logistic Regression Results:\")\n",
    "print(\"Accuracy:\", accuracy_score(y_test, y_pred))\n",
    "print(\"\\nClassification Report:\\n\", classification_report(y_test, y_pred))\n",
    "print(\"\\nConfusion Matrix:\\n\", confusion_matrix(y_test, y_pred))\n"
   ]
  },
  {
   "cell_type": "code",
   "execution_count": 2,
   "id": "55e3fd30",
   "metadata": {},
   "outputs": [
    {
     "name": "stdout",
     "output_type": "stream",
     "text": [
      "Multinomial Naive Bayes Results:\n",
      "Accuracy: 0.9447707250960018\n",
      "              precision    recall  f1-score   support\n",
      "\n",
      "           0       0.93      0.95      0.94      4284\n",
      "           1       0.96      0.94      0.95      4570\n",
      "\n",
      "    accuracy                           0.94      8854\n",
      "   macro avg       0.94      0.95      0.94      8854\n",
      "weighted avg       0.94      0.94      0.94      8854\n",
      "\n",
      "[[4084  200]\n",
      " [ 289 4281]]\n"
     ]
    }
   ],
   "source": [
    "#2. Multinomial Naive Bayes model\n",
    "from sklearn.naive_bayes import MultinomialNB   \n",
    "mnb = MultinomialNB()\n",
    "mnb.fit(X_train, y_train)\n",
    "mnb_pred = mnb.predict(X_test)\n",
    "print(\"Multinomial Naive Bayes Results:\")\n",
    "print(\"Accuracy:\", accuracy_score(y_test, mnb_pred))\n",
    "print(classification_report(y_test, mnb_pred))\n",
    "print(confusion_matrix(y_test, mnb_pred))"
   ]
  },
  {
   "cell_type": "code",
   "execution_count": 4,
   "id": "1b390a34",
   "metadata": {},
   "outputs": [
    {
     "name": "stdout",
     "output_type": "stream",
     "text": [
      "Support Vector Machine Results:\n",
      "Accuracy: 0.9950304946916648\n",
      "              precision    recall  f1-score   support\n",
      "\n",
      "           0       0.99      1.00      0.99      4284\n",
      "           1       1.00      0.99      1.00      4570\n",
      "\n",
      "    accuracy                           1.00      8854\n",
      "   macro avg       0.99      1.00      1.00      8854\n",
      "weighted avg       1.00      1.00      1.00      8854\n",
      "\n",
      "[[4272   12]\n",
      " [  32 4538]]\n"
     ]
    }
   ],
   "source": [
    "#3. Support Vector Machine model\n",
    "from sklearn.svm import SVC\n",
    "svm = SVC(kernel='linear')  # Linear kernel preferred for text data\n",
    "svm.fit(X_train, y_train)\n",
    "svm_pred = svm.predict(X_test)\n",
    "print(\"Support Vector Machine Results:\")\n",
    "print(\"Accuracy:\", accuracy_score(y_test, svm_pred))\n",
    "print(classification_report(y_test, svm_pred))\n",
    "print(confusion_matrix(y_test, svm_pred))"
   ]
  },
  {
   "cell_type": "code",
   "execution_count": 5,
   "id": "17164954",
   "metadata": {},
   "outputs": [
    {
     "name": "stdout",
     "output_type": "stream",
     "text": [
      "Random Forest Results:\n",
      "Accuracy: 0.9985317370679919\n",
      "              precision    recall  f1-score   support\n",
      "\n",
      "           0       1.00      1.00      1.00      4284\n",
      "           1       1.00      1.00      1.00      4570\n",
      "\n",
      "    accuracy                           1.00      8854\n",
      "   macro avg       1.00      1.00      1.00      8854\n",
      "weighted avg       1.00      1.00      1.00      8854\n",
      "\n",
      "[[4281    3]\n",
      " [  10 4560]]\n"
     ]
    }
   ],
   "source": [
    "#4. Random Forest model\n",
    "from sklearn.ensemble import RandomForestClassifier \n",
    "rf = RandomForestClassifier(n_estimators=100, random_state=42)\n",
    "rf.fit(X_train, y_train)\n",
    "rf_pred = rf.predict(X_test)\n",
    "print(\"Random Forest Results:\")\n",
    "print(\"Accuracy:\", accuracy_score(y_test, rf_pred))\n",
    "print(classification_report(y_test, rf_pred))\n",
    "print(confusion_matrix(y_test, rf_pred))"
   ]
  }
 ],
 "metadata": {
  "kernelspec": {
   "display_name": "myenv",
   "language": "python",
   "name": "python3"
  },
  "language_info": {
   "codemirror_mode": {
    "name": "ipython",
    "version": 3
   },
   "file_extension": ".py",
   "mimetype": "text/x-python",
   "name": "python",
   "nbconvert_exporter": "python",
   "pygments_lexer": "ipython3",
   "version": "3.12.7"
  }
 },
 "nbformat": 4,
 "nbformat_minor": 5
}
